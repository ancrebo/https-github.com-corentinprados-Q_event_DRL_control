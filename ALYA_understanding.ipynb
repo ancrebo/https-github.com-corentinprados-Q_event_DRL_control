{
 "cells": [
  {
   "cell_type": "markdown",
   "id": "15aae9f3-de3a-4d3d-9ccb-e040b649e364",
   "metadata": {},
   "source": [
    "***\n",
    "# ALYA Understanding\n",
    "***"
   ]
  },
  {
   "cell_type": "markdown",
   "id": "a1d47418-32fc-48fc-8383-9ac81b94cfe9",
   "metadata": {},
   "source": []
  }
 ],
 "metadata": {
  "kernelspec": {
   "display_name": "Python 3 (ipykernel)",
   "language": "python",
   "name": "python3"
  },
  "language_info": {
   "codemirror_mode": {
    "name": "ipython",
    "version": 3
   },
   "file_extension": ".py",
   "mimetype": "text/x-python",
   "name": "python",
   "nbconvert_exporter": "python",
   "pygments_lexer": "ipython3",
   "version": "3.11.7"
  }
 },
 "nbformat": 4,
 "nbformat_minor": 5
}
