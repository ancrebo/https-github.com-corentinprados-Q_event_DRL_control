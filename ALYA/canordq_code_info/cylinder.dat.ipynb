{
 "cells": [
  {
   "cell_type": "markdown",
   "id": "22b86c14",
   "metadata": {},
   "source": [
    "### cylinder.dat\n"
   ]
  },
  {
   "cell_type": "code",
   "execution_count": null,
   "id": "1565eaa8",
   "metadata": {},
   "outputs": [],
   "source": [
    "$-------------------------------------------------------------------\n",
    "RUN_DATA\n",
    "  ALYA: \t         cylinder\n",
    "  RUN_TYPE:              CONTI, PRELIMINARY, FREQUENCY=50\n",
    "  LATEX_INFO_FILE:       YES\n",
    "  LIVE_INFORMATION:      Screen\n",
    "  TIMING:                ON\n",
    "END_RUN_DATA\n",
    "$-------------------------------------------------------------------\n",
    "PROBLEM_DATA\n",
    "  TIME_COUPLING      global, fromCritical $\n",
    "\tINCLUDE time_interval.dat\n",
    "\t$ TIME_STEP_SIZE=  0.001\n",
    "\tNUMBER_OF_STEPS    999999\n",
    "\n",
    "  NASTIN_MODULE:          On\n",
    "  END_NASTIN_MODULE\n",
    "\n",
    "  PARALL_SERVICE:         ON\n",
    "    POSTPROCESS           MASTER\n",
    "    PARTITION_TYPE:       FACES\n",
    "    PARTITIONING\n",
    "    METHOD:               METIS\n",
    "    END_PARTITIONING\n",
    "  END_PARALL_SERVICE \n",
    "END_PROBLEM_DATA\n",
    "$-------------------------------------------------------------------\n",
    "MPI_IO: ON\n",
    "  GEOMETRY: ON $ Export\n",
    "  RESTART: ON\n",
    "  POSTPROCESS: ON\n",
    "END_MPI_IO\n",
    "$-------------------------------------------------------------------"
   ]
  }
 ],
 "metadata": {
  "kernelspec": {
   "display_name": "Python 3 (ipykernel)",
   "language": "python",
   "name": "python3"
  },
  "language_info": {
   "codemirror_mode": {
    "name": "ipython",
    "version": 3
   },
   "file_extension": ".py",
   "mimetype": "text/x-python",
   "name": "python",
   "nbconvert_exporter": "python",
   "pygments_lexer": "ipython3",
   "version": "3.10.9"
  }
 },
 "nbformat": 4,
 "nbformat_minor": 5
}
